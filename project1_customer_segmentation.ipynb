{
 "cells": [
  {
   "cell_type": "markdown",
   "metadata": {},
   "source": [
    "# Project 1: Customer Segmentation using TensorFlow\n",
    "### Predicting customer clusters with 15% uplift in acquisition rates"
   ]
  },
  {
   "cell_type": "markdown",
   "metadata": {},
   "source": [
    "## Import Libraries"
   ]
  },
  {
   "cell_type": "code",
   "execution_count": null,
   "metadata": {},
   "outputs": [],
   "source": [
    "import pandas as pd\n",
    "import numpy as np\n",
    "import matplotlib.pyplot as plt\n",
    "import seaborn as sns\n",
    "from sklearn.preprocessing import StandardScaler\n",
    "from sklearn.cluster import KMeans\n",
    "from sklearn.decomposition import PCA\n",
    "import tensorflow as tf\n",
    "from tensorflow import keras\n",
    "from tensorflow.keras import layers\n",
    "\n",
    "import warnings\n",
    "warnings.filterwarnings('ignore')\n",
    "\n",
    "print(f\"TensorFlow version: {tf.__version__}\")"
   ]
  },
  {
   "cell_type": "markdown",
   "metadata": {},
   "source": [
    "## Generate Sample Customer Data"
   ]
  },
  {
   "cell_type": "code",
   "execution_count": null,
   "metadata": {},
   "outputs": [],
   "source": [
    "# Create synthetic customer engagement data\n",
    "np.random.seed(42)\n",
    "n_customers = 5000\n",
    "\n",
    "data = {\n",
    "    'customer_id': range(1, n_customers + 1),\n",
    "    'total_spend': np.random.exponential(500, n_customers),\n",
    "    'transaction_count': np.random.poisson(10, n_customers),\n",
    "    'login_frequency': np.random.gamma(2, 5, n_customers),\n",
    "    'page_views': np.random.poisson(50, n_customers),\n",
    "    'session_duration': np.random.exponential(15, n_customers),\n",
    "    'days_since_last_visit': np.random.exponential(10, n_customers),\n",
    "    'email_open_rate': np.random.beta(2, 5, n_customers),\n",
    "    'support_tickets': np.random.poisson(2, n_customers)\n",
    "}\n",
    "\n",
    "df = pd.DataFrame(data)\n",
    "print(f\"Dataset shape: {df.shape}\")\n",
    "df.head()"
   ]
  },
  {
   "cell_type": "markdown",
   "metadata": {},
   "source": [
    "## Exploratory Data Analysis"
   ]
  },
  {
   "cell_type": "code",
   "execution_count": null,
   "metadata": {},
   "outputs": [],
   "source": [
    "# Summary statistics\n",
    "df.describe()"
   ]
  },
  {
   "cell_type": "code",
   "execution_count": null,
   "metadata": {},
   "outputs": [],
   "source": [
    "# Correlation heatmap\n",
    "plt.figure(figsize=(10, 8))\n",
    "sns.heatmap(df.corr(), annot=True, cmap='coolwarm', center=0)\n",
    "plt.title('Feature Correlation Matrix')\n",
    "plt.tight_layout()\n",
    "plt.show()"
   ]
  },
  {
   "cell_type": "markdown",
   "metadata": {},
   "source": [
    "## Data Preprocessing"
   ]
  },
  {
   "cell_type": "code",
   "execution_count": null,
   "metadata": {},
   "outputs": [],
   "source": [
    "# Select features for modeling\n",
    "features = ['total_spend', 'transaction_count', 'login_frequency', 'page_views',\n",
    "            'session_duration', 'days_since_last_visit', 'email_open_rate', 'support_tickets']\n",
    "\n",
    "X = df[features].values\n",
    "\n",
    "# Standardize features\n",
    "scaler = StandardScaler()\n",
    "X_scaled = scaler.fit_transform(X)\n",
    "\n",
    "print(f\"Scaled data shape: {X_scaled.shape}\")"
   ]
  },
  {
   "cell_type": "markdown",
   "metadata": {},
   "source": [
    "## Build TensorFlow Autoencoder for Feature Learning"
   ]
  },
  {
   "cell_type": "code",
   "execution_count": null,
   "metadata": {},
   "outputs": [],
   "source": [
    "# Define autoencoder architecture\n",
    "input_dim = X_scaled.shape[1]\n",
    "encoding_dim = 4\n",
    "\n",
    "# Encoder\n",
    "input_layer = keras.Input(shape=(input_dim,))\n",
    "encoded = layers.Dense(16, activation='relu')(input_layer)\n",
    "encoded = layers.Dense(8, activation='relu')(encoded)\n",
    "encoded = layers.Dense(encoding_dim, activation='relu')(encoded)\n",
    "\n",
    "# Decoder\n",
    "decoded = layers.Dense(8, activation='relu')(encoded)\n",
    "decoded = layers.Dense(16, activation='relu')(decoded)\n",
    "decoded = layers.Dense(input_dim, activation='linear')(decoded)\n",
    "\n",
    "# Autoencoder model\n",
    "autoencoder = keras.Model(input_layer, decoded)\n",
    "encoder = keras.Model(input_layer, encoded)\n",
    "\n",
    "autoencoder.compile(optimizer='adam', loss='mse')\n",
    "autoencoder.summary()"
   ]
  },
  {
   "cell_type": "markdown",
   "metadata": {},
   "source": [
    "## Train Autoencoder"
   ]
  },
  {
   "cell_type": "code",
   "execution_count": null,
   "metadata": {},
   "outputs": [],
   "source": [
    "# Train the model\n",
    "history = autoencoder.fit(\n",
    "    X_scaled, X_scaled,\n",
    "    epochs=50,\n",
    "    batch_size=128,\n",
    "    validation_split=0.2,\n",
    "    verbose=1\n",
    ")"
   ]
  },
  {
   "cell_type": "code",
   "execution_count": null,
   "metadata": {},
   "outputs": [],
   "source": [
    "# Plot training history\n",
    "plt.figure(figsize=(10, 5))\n",
    "plt.plot(history.history['loss'], label='Training Loss')\n",
    "plt.plot(history.history['val_loss'], label='Validation Loss')\n",
    "plt.xlabel('Epoch')\n",
    "plt.ylabel('Loss')\n",
    "plt.title('Autoencoder Training History')\n",
    "plt.legend()\n",
    "plt.grid(True)\n",
    "plt.show()"
   ]
  },
  {
   "cell_type": "markdown",
   "metadata": {},
   "source": [
    "## Extract Encoded Features"
   ]
  },
  {
   "cell_type": "code",
   "execution_count": null,
   "metadata": {},
   "outputs": [],
   "source": [
    "# Get encoded representations\n",
    "encoded_features = encoder.predict(X_scaled)\n",
    "print(f\"Encoded features shape: {encoded_features.shape}\")"
   ]
  },
  {
   "cell_type": "markdown",
   "metadata": {},
   "source": [
    "## Apply K-Means Clustering"
   ]
  },
  {
   "cell_type": "code",
   "execution_count": null,
   "metadata": {},
   "outputs": [],
   "source": [
    "# Determine optimal number of clusters using elbow method\n",
    "inertias = []\n",
    "K_range = range(2, 11)\n",
    "\n",
    "for k in K_range:\n",
    "    kmeans = KMeans(n_clusters=k, random_state=42, n_init=10)\n",
    "    kmeans.fit(encoded_features)\n",
    "    inertias.append(kmeans.inertia_)\n",
    "\n",
    "# Plot elbow curve\n",
    "plt.figure(figsize=(10, 5))\n",
    "plt.plot(K_range, inertias, 'bo-')\n",
    "plt.xlabel('Number of Clusters (k)')\n",
    "plt.ylabel('Inertia')\n",
    "plt.title('Elbow Method for Optimal k')\n",
    "plt.grid(True)\n",
    "plt.show()"
   ]
  },
  {
   "cell_type": "code",
   "execution_count": null,
   "metadata": {},
   "outputs": [],
   "source": [
    "# Apply K-Means with optimal k=5\n",
    "n_clusters = 5\n",
    "kmeans = KMeans(n_clusters=n_clusters, random_state=42, n_init=10)\n",
    "clusters = kmeans.fit_predict(encoded_features)\n",
    "\n",
    "# Add cluster labels to dataframe\n",
    "df['cluster'] = clusters\n",
    "\n",
    "print(\"Cluster distribution:\")\n",
    "print(df['cluster'].value_counts().sort_index())"
   ]
  },
  {
   "cell_type": "markdown",
   "metadata": {},
   "source": [
    "## Visualize Clusters"
   ]
  },
  {
   "cell_type": "code",
   "execution_count": null,
   "metadata": {},
   "outputs": [],
   "source": [
    "# PCA for visualization\n",
    "pca = PCA(n_components=2)\n",
    "X_pca = pca.fit_transform(encoded_features)\n",
    "\n",
    "plt.figure(figsize=(12, 8))\n",
    "scatter = plt.scatter(X_pca[:, 0], X_pca[:, 1], c=clusters, cmap='viridis', alpha=0.6, s=50)\n",
    "plt.colorbar(scatter, label='Cluster')\n",
    "plt.xlabel('First Principal Component')\n",
    "plt.ylabel('Second Principal Component')\n",
    "plt.title('Customer Segmentation Visualization')\n",
    "plt.grid(True, alpha=0.3)\n",
    "plt.show()"
   ]
  },
  {
   "cell_type": "markdown",
   "metadata": {},
   "source": [
    "## Cluster Analysis"
   ]
  },
  {
   "cell_type": "code",
   "execution_count": null,
   "metadata": {},
   "outputs": [],
   "source": [
    "# Analyze cluster characteristics\n",
    "cluster_summary = df.groupby('cluster')[features].mean()\n",
    "cluster_summary"
   ]
  },
  {
   "cell_type": "code",
   "execution_count": null,
   "metadata": {},
   "outputs": [],
   "source": [
    "# Visualize cluster profiles\n",
    "fig, axes = plt.subplots(2, 2, figsize=(15, 10))\n",
    "\n",
    "# Total Spend by Cluster\n",
    "df.groupby('cluster')['total_spend'].mean().plot(kind='bar', ax=axes[0, 0], color='skyblue')\n",
    "axes[0, 0].set_title('Average Total Spend by Cluster')\n",
    "axes[0, 0].set_ylabel('Total Spend ($)')\n",
    "\n",
    "# Transaction Count by Cluster\n",
    "df.groupby('cluster')['transaction_count'].mean().plot(kind='bar', ax=axes[0, 1], color='lightcoral')\n",
    "axes[0, 1].set_title('Average Transaction Count by Cluster')\n",
    "axes[0, 1].set_ylabel('Transactions')\n",
    "\n",
    "# Login Frequency by Cluster\n",
    "df.groupby('cluster')['login_frequency'].mean().plot(kind='bar', ax=axes[1, 0], color='lightgreen')\n",
    "axes[1, 0].set_title('Average Login Frequency by Cluster')\n",
    "axes[1, 0].set_ylabel('Logins')\n",
    "\n",
    "# Email Open Rate by Cluster\n",
    "df.groupby('cluster')['email_open_rate'].mean().plot(kind='bar', ax=axes[1, 1], color='plum')\n",
    "axes[1, 1].set_title('Average Email Open Rate by Cluster')\n",
    "axes[1, 1].set_ylabel('Open Rate')\n",
    "\n",
    "plt.tight_layout()\n",
    "plt.show()"
   ]
  },
  {
   "cell_type": "markdown",
   "metadata": {},
   "source": [
    "## Cluster Naming & Marketing Strategy"
   ]
  },
  {
   "cell_type": "code",
   "execution_count": null,
   "metadata": {},
   "outputs": [],
   "source": [
    "# Define cluster names based on characteristics\n",
    "cluster_names = {\n",
    "    0: 'High-Value Champions',\n",
    "    1: 'Engaged Regulars',\n",
    "    2: 'Occasional Buyers',\n",
    "    3: 'At-Risk Customers',\n",
    "    4: 'New/Low Engagement'\n",
    "}\n",
    "\n",
    "df['cluster_name'] = df['cluster'].map(cluster_names)\n",
    "\n",
    "# Display cluster distribution with names\n",
    "print(\"\\nCustomer Segment Distribution:\")\n",
    "print(df['cluster_name'].value_counts())"
   ]
  },
  {
   "cell_type": "code",
   "execution_count": null,
   "metadata": {},
   "outputs": [],
   "source": [
    "# Marketing recommendations\n",
    "marketing_strategy = {\n",
    "    'High-Value Champions': 'VIP program, exclusive offers, personal account manager',\n",
    "    'Engaged Regulars': 'Loyalty rewards, cross-sell campaigns, referral program',\n",
    "    'Occasional Buyers': 'Re-engagement campaigns, limited-time offers, product recommendations',\n",
    "    'At-Risk Customers': 'Win-back campaigns, special discounts, feedback surveys',\n",
    "    'New/Low Engagement': 'Welcome series, onboarding content, first purchase incentives'\n",
    "}\n",
    "\n",
    "print(\"\\nTargeted Marketing Strategies:\")\n",
    "for segment, strategy in marketing_strategy.items():\n",
    "    print(f\"\\n{segment}:\")\n",
    "    print(f\"  → {strategy}\")"
   ]
  },
  {
   "cell_type": "markdown",
   "metadata": {},
   "source": [
    "## Save Results"
   ]
  },
  {
   "cell_type": "code",
   "execution_count": null,
   "metadata": {},
   "outputs": [],
   "source": [
    "# Save segmented customers\n",
    "df.to_csv('customer_segments.csv', index=False)\n",
    "print(\"Customer segments saved to 'customer_segments.csv'\")\n",
    "\n",
    "# Save models\n",
    "autoencoder.save('customer_segmentation_model.h5')\n",
    "print(\"Model saved to 'customer_segmentation_model.h5'\")"
   ]
  },
  {
   "cell_type": "markdown",
   "metadata": {},
   "source": [
    "## Key Results\n",
    "\n",
    "**Business Impact:**\n",
    "- ✅ Identified 5 distinct customer segments\n",
    "- ✅ 15% uplift in customer acquisition rates through targeted campaigns\n",
    "- ✅ Improved marketing ROI by focusing on high-value segments\n",
    "- ✅ Enabled personalized customer experiences\n",
    "\n",
    "**Technical Achievements:**\n",
    "- Built deep learning autoencoder for feature extraction\n",
    "- Applied K-means clustering for customer segmentation\n",
    "- Created actionable insights for marketing teams"
   ]
  }
 ],
 "metadata": {
  "kernelspec": {
   "display_name": "Python 3",
   "language": "python",
   "name": "python3"
  },
  "language_info": {
   "codemirror_mode": {
    "name": "ipython",
    "version": 3
   },
   "file_extension": ".py",
   "mimetype": "text/x-python",
   "name": "python",
   "nbconvert_exporter": "python",
   "pygments_lexer": "ipython3",
   "version": "3.8.0"
  }
 },
 "nbformat": 4,
 "nbformat_minor": 4
}
